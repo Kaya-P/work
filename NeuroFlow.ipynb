{
  "nbformat": 4,
  "nbformat_minor": 0,
  "metadata": {
    "colab": {
      "name": "NeuroFlow.ipynb",
      "provenance": [],
      "mount_file_id": "1jEUsKIX8UG8ehJDF7CATLkQdo6jwKFt9",
      "authorship_tag": "ABX9TyMup16qxvKv5cvxsRoMIReX",
      "include_colab_link": true
    },
    "kernelspec": {
      "name": "python3",
      "display_name": "Python 3"
    },
    "language_info": {
      "name": "python"
    }
  },
  "cells": [
    {
      "cell_type": "markdown",
      "metadata": {
        "id": "view-in-github",
        "colab_type": "text"
      },
      "source": [
        "<a href=\"https://colab.research.google.com/github/Kaya-P/work/blob/master/NeuroFlow.ipynb\" target=\"_parent\"><img src=\"https://colab.research.google.com/assets/colab-badge.svg\" alt=\"Open In Colab\"/></a>"
      ]
    },
    {
      "cell_type": "markdown",
      "metadata": {
        "id": "97HOIjDK7UwB"
      },
      "source": [
        "## **Neuroflow** ##"
      ]
    },
    {
      "cell_type": "markdown",
      "metadata": {
        "id": "pDSZqGRWRrXe"
      },
      "source": [
        "Part 1 - GAD7"
      ]
    },
    {
      "cell_type": "markdown",
      "metadata": {
        "id": "392HUeIrshf0"
      },
      "source": [
        "importing all libraries that will be used\n",
        "\n",
        "\n",
        "\n"
      ]
    },
    {
      "cell_type": "code",
      "metadata": {
        "colab": {
          "base_uri": "https://localhost:8080/"
        },
        "id": "CLo8DvzZRyX9",
        "outputId": "67de8be9-f171-478f-d3f6-88bcd3bc47b5"
      },
      "source": [
        "from google.colab import drive\n",
        "drive.mount('/content/drive')"
      ],
      "execution_count": 1,
      "outputs": [
        {
          "output_type": "stream",
          "text": [
            "Drive already mounted at /content/drive; to attempt to forcibly remount, call drive.mount(\"/content/drive\", force_remount=True).\n"
          ],
          "name": "stdout"
        }
      ]
    },
    {
      "cell_type": "code",
      "metadata": {
        "id": "sxLIqgbuST-4"
      },
      "source": [
        "import pandas as pd\n",
        "import seaborn as sns\n",
        "import matplotlib.pyplot as plt\n",
        "import numpy as np\n",
        "import datetime\n"
      ],
      "execution_count": 2,
      "outputs": []
    },
    {
      "cell_type": "code",
      "metadata": {
        "id": "jGTfUCJER6yo"
      },
      "source": [
        "raw_data_df = pd.read_csv('/content/drive/MyDrive/phq_all_final.csv')  "
      ],
      "execution_count": 3,
      "outputs": []
    },
    {
      "cell_type": "code",
      "metadata": {
        "id": "Q9yI_5EsU4oQ"
      },
      "source": [
        "data_df = raw_data_df.copy()"
      ],
      "execution_count": 4,
      "outputs": []
    },
    {
      "cell_type": "markdown",
      "metadata": {
        "id": "acqcV_f9svJX"
      },
      "source": [
        "We then change the format of the dates provided into the datatime type. Then sort by date so when we group by patient_id the the records fro each patient will start from the earliest record to the latest record. This will help with later manipulation where we compare initial scores to final scores "
      ]
    },
    {
      "cell_type": "code",
      "metadata": {
        "id": "_2V-srhCTTMj"
      },
      "source": [
        "data_df['date'] =  pd.to_datetime(data_df['date'], format='%Y-%m-%dT%H:%M:%S.%f')\n",
        "data_df['patient_date_created'] =  pd.to_datetime(data_df['patient_date_created'], format='%Y-%m-%dT%H:%M:%S.%f')\n",
        "# data_df['time'] = data_df['date'].dt.time\n",
        "data_df['date'] = data_df['date'].dt.date\n",
        "data_df['patient_date_created'] = data_df['patient_date_created'].dt.date\n"
      ],
      "execution_count": 6,
      "outputs": []
    },
    {
      "cell_type": "code",
      "metadata": {
        "id": "GOxsnzd4SbTI"
      },
      "source": [
        "name_df = data_df.sort_values(by=['date'], ascending=False)\n",
        "name_df = data_df.groupby('patient_id')\n"
      ],
      "execution_count": 7,
      "outputs": []
    },
    {
      "cell_type": "code",
      "metadata": {
        "colab": {
          "base_uri": "https://localhost:8080/",
          "height": 419
        },
        "id": "SJ6qbIGISq6O",
        "outputId": "5d83b74a-987e-4c75-88d2-e22aa9717277"
      },
      "source": [
        "name_df.head()"
      ],
      "execution_count": 8,
      "outputs": [
        {
          "output_type": "execute_result",
          "data": {
            "text/html": [
              "<div>\n",
              "<style scoped>\n",
              "    .dataframe tbody tr th:only-of-type {\n",
              "        vertical-align: middle;\n",
              "    }\n",
              "\n",
              "    .dataframe tbody tr th {\n",
              "        vertical-align: top;\n",
              "    }\n",
              "\n",
              "    .dataframe thead th {\n",
              "        text-align: right;\n",
              "    }\n",
              "</style>\n",
              "<table border=\"1\" class=\"dataframe\">\n",
              "  <thead>\n",
              "    <tr style=\"text-align: right;\">\n",
              "      <th></th>\n",
              "      <th>date</th>\n",
              "      <th>patient_id</th>\n",
              "      <th>type</th>\n",
              "      <th>patient_date_created</th>\n",
              "      <th>score</th>\n",
              "    </tr>\n",
              "  </thead>\n",
              "  <tbody>\n",
              "    <tr>\n",
              "      <th>0</th>\n",
              "      <td>2019-08-26</td>\n",
              "      <td>8430</td>\n",
              "      <td>gad7</td>\n",
              "      <td>2019-06-03</td>\n",
              "      <td>6</td>\n",
              "    </tr>\n",
              "    <tr>\n",
              "      <th>1</th>\n",
              "      <td>2019-11-15</td>\n",
              "      <td>8430</td>\n",
              "      <td>gad7</td>\n",
              "      <td>2019-06-03</td>\n",
              "      <td>1</td>\n",
              "    </tr>\n",
              "    <tr>\n",
              "      <th>2</th>\n",
              "      <td>2019-10-07</td>\n",
              "      <td>14338</td>\n",
              "      <td>gad7</td>\n",
              "      <td>2019-06-03</td>\n",
              "      <td>10</td>\n",
              "    </tr>\n",
              "    <tr>\n",
              "      <th>3</th>\n",
              "      <td>2019-11-04</td>\n",
              "      <td>14338</td>\n",
              "      <td>gad7</td>\n",
              "      <td>2019-06-03</td>\n",
              "      <td>7</td>\n",
              "    </tr>\n",
              "    <tr>\n",
              "      <th>4</th>\n",
              "      <td>2019-12-02</td>\n",
              "      <td>14338</td>\n",
              "      <td>gad7</td>\n",
              "      <td>2019-06-03</td>\n",
              "      <td>9</td>\n",
              "    </tr>\n",
              "    <tr>\n",
              "      <th>...</th>\n",
              "      <td>...</td>\n",
              "      <td>...</td>\n",
              "      <td>...</td>\n",
              "      <td>...</td>\n",
              "      <td>...</td>\n",
              "    </tr>\n",
              "    <tr>\n",
              "      <th>53693</th>\n",
              "      <td>2020-07-31</td>\n",
              "      <td>10683</td>\n",
              "      <td>gad7</td>\n",
              "      <td>2020-07-31</td>\n",
              "      <td>1</td>\n",
              "    </tr>\n",
              "    <tr>\n",
              "      <th>53694</th>\n",
              "      <td>2020-07-31</td>\n",
              "      <td>12344</td>\n",
              "      <td>gad7</td>\n",
              "      <td>2020-07-31</td>\n",
              "      <td>1</td>\n",
              "    </tr>\n",
              "    <tr>\n",
              "      <th>53695</th>\n",
              "      <td>2020-07-31</td>\n",
              "      <td>17475</td>\n",
              "      <td>gad7</td>\n",
              "      <td>2020-07-31</td>\n",
              "      <td>7</td>\n",
              "    </tr>\n",
              "    <tr>\n",
              "      <th>53696</th>\n",
              "      <td>2020-07-31</td>\n",
              "      <td>9069</td>\n",
              "      <td>gad7</td>\n",
              "      <td>2020-07-31</td>\n",
              "      <td>3</td>\n",
              "    </tr>\n",
              "    <tr>\n",
              "      <th>53697</th>\n",
              "      <td>2020-07-31</td>\n",
              "      <td>4870</td>\n",
              "      <td>gad7</td>\n",
              "      <td>2020-07-31</td>\n",
              "      <td>4</td>\n",
              "    </tr>\n",
              "  </tbody>\n",
              "</table>\n",
              "<p>45697 rows × 5 columns</p>\n",
              "</div>"
            ],
            "text/plain": [
              "             date  patient_id  type patient_date_created  score\n",
              "0      2019-08-26        8430  gad7           2019-06-03      6\n",
              "1      2019-11-15        8430  gad7           2019-06-03      1\n",
              "2      2019-10-07       14338  gad7           2019-06-03     10\n",
              "3      2019-11-04       14338  gad7           2019-06-03      7\n",
              "4      2019-12-02       14338  gad7           2019-06-03      9\n",
              "...           ...         ...   ...                  ...    ...\n",
              "53693  2020-07-31       10683  gad7           2020-07-31      1\n",
              "53694  2020-07-31       12344  gad7           2020-07-31      1\n",
              "53695  2020-07-31       17475  gad7           2020-07-31      7\n",
              "53696  2020-07-31        9069  gad7           2020-07-31      3\n",
              "53697  2020-07-31        4870  gad7           2020-07-31      4\n",
              "\n",
              "[45697 rows x 5 columns]"
            ]
          },
          "metadata": {
            "tags": []
          },
          "execution_count": 8
        }
      ]
    },
    {
      "cell_type": "markdown",
      "metadata": {
        "id": "w7RNBVOztgU8"
      },
      "source": [
        "To get a picture of the data we are looking at I ploted a random sample of 10 patients scores. In this random sample displayed we se patient 604 who seems to have scores above 10 for most if their time taking these surveys and ending up with a score of six in April 2020 shwoing the therapy working over time for them."
      ]
    },
    {
      "cell_type": "code",
      "metadata": {
        "id": "o3J6l2Z8bFOA"
      },
      "source": [
        "a=np.arange(name_df.ngroups)\n",
        "np.random.shuffle(a)\n",
        "\n",
        "temp = data_df[name_df.ngroup().isin(a[:10])]"
      ],
      "execution_count": 123,
      "outputs": []
    },
    {
      "cell_type": "code",
      "metadata": {
        "id": "7sZGDvZmbyvg"
      },
      "source": [
        "temp = temp.groupby('patient_id')"
      ],
      "execution_count": 124,
      "outputs": []
    },
    {
      "cell_type": "code",
      "metadata": {
        "colab": {
          "base_uri": "https://localhost:8080/",
          "height": 348
        },
        "id": "snYqEg15TGnk",
        "outputId": "8f19ff25-f082-46c9-e2d7-4b9d65f25453"
      },
      "source": [
        "# plt.rc('font', size=12)\n",
        "# fig, ax = plt.subplots(figsize=(10, 6))\n",
        "\n",
        "# Specify how our lines should look\n",
        "leg = []\n",
        "for name, group in temp:\n",
        "  plt.scatter(group.date, group.score, label='scores')\n",
        "  leg.append(name)\n",
        "plt.legend(leg)\n",
        "plt.xticks(rotation = 90)\n"
      ],
      "execution_count": 128,
      "outputs": [
        {
          "output_type": "execute_result",
          "data": {
            "text/plain": [
              "(array([737303., 737333., 737364., 737394., 737425., 737456., 737485.,\n",
              "        737516., 737546., 737577., 737607.]),\n",
              " <a list of 11 Text major ticklabel objects>)"
            ]
          },
          "metadata": {
            "tags": []
          },
          "execution_count": 128
        },
        {
          "output_type": "display_data",
          "data": {
            "image/png": "[encoded data removed]",
            "text/plain": [
              "<Figure size 432x288 with 1 Axes>"
            ]
          },
          "metadata": {
            "tags": [],
            "needs_background": "light"
          }
        }
      ]
    },
    {
      "cell_type": "code",
      "metadata": {
        "colab": {
          "base_uri": "https://localhost:8080/",
          "height": 419
        },
        "id": "zqjbZSzxQQic",
        "outputId": "9ce2d77d-dbc2-4d71-a8f6-a429b6d00cdc"
      },
      "source": [
        "name_df.head()"
      ],
      "execution_count": 12,
      "outputs": [
        {
          "output_type": "execute_result",
          "data": {
            "text/html": [
              "<div>\n",
              "<style scoped>\n",
              "    .dataframe tbody tr th:only-of-type {\n",
              "        vertical-align: middle;\n",
              "    }\n",
              "\n",
              "    .dataframe tbody tr th {\n",
              "        vertical-align: top;\n",
              "    }\n",
              "\n",
              "    .dataframe thead th {\n",
              "        text-align: right;\n",
              "    }\n",
              "</style>\n",
              "<table border=\"1\" class=\"dataframe\">\n",
              "  <thead>\n",
              "    <tr style=\"text-align: right;\">\n",
              "      <th></th>\n",
              "      <th>date</th>\n",
              "      <th>patient_id</th>\n",
              "      <th>type</th>\n",
              "      <th>patient_date_created</th>\n",
              "      <th>score</th>\n",
              "    </tr>\n",
              "  </thead>\n",
              "  <tbody>\n",
              "    <tr>\n",
              "      <th>0</th>\n",
              "      <td>2019-08-26</td>\n",
              "      <td>8430</td>\n",
              "      <td>gad7</td>\n",
              "      <td>2019-06-03</td>\n",
              "      <td>6</td>\n",
              "    </tr>\n",
              "    <tr>\n",
              "      <th>1</th>\n",
              "      <td>2019-11-15</td>\n",
              "      <td>8430</td>\n",
              "      <td>gad7</td>\n",
              "      <td>2019-06-03</td>\n",
              "      <td>1</td>\n",
              "    </tr>\n",
              "    <tr>\n",
              "      <th>2</th>\n",
              "      <td>2019-10-07</td>\n",
              "      <td>14338</td>\n",
              "      <td>gad7</td>\n",
              "      <td>2019-06-03</td>\n",
              "      <td>10</td>\n",
              "    </tr>\n",
              "    <tr>\n",
              "      <th>3</th>\n",
              "      <td>2019-11-04</td>\n",
              "      <td>14338</td>\n",
              "      <td>gad7</td>\n",
              "      <td>2019-06-03</td>\n",
              "      <td>7</td>\n",
              "    </tr>\n",
              "    <tr>\n",
              "      <th>4</th>\n",
              "      <td>2019-12-02</td>\n",
              "      <td>14338</td>\n",
              "      <td>gad7</td>\n",
              "      <td>2019-06-03</td>\n",
              "      <td>9</td>\n",
              "    </tr>\n",
              "    <tr>\n",
              "      <th>...</th>\n",
              "      <td>...</td>\n",
              "      <td>...</td>\n",
              "      <td>...</td>\n",
              "      <td>...</td>\n",
              "      <td>...</td>\n",
              "    </tr>\n",
              "    <tr>\n",
              "      <th>53693</th>\n",
              "      <td>2020-07-31</td>\n",
              "      <td>10683</td>\n",
              "      <td>gad7</td>\n",
              "      <td>2020-07-31</td>\n",
              "      <td>1</td>\n",
              "    </tr>\n",
              "    <tr>\n",
              "      <th>53694</th>\n",
              "      <td>2020-07-31</td>\n",
              "      <td>12344</td>\n",
              "      <td>gad7</td>\n",
              "      <td>2020-07-31</td>\n",
              "      <td>1</td>\n",
              "    </tr>\n",
              "    <tr>\n",
              "      <th>53695</th>\n",
              "      <td>2020-07-31</td>\n",
              "      <td>17475</td>\n",
              "      <td>gad7</td>\n",
              "      <td>2020-07-31</td>\n",
              "      <td>7</td>\n",
              "    </tr>\n",
              "    <tr>\n",
              "      <th>53696</th>\n",
              "      <td>2020-07-31</td>\n",
              "      <td>9069</td>\n",
              "      <td>gad7</td>\n",
              "      <td>2020-07-31</td>\n",
              "      <td>3</td>\n",
              "    </tr>\n",
              "    <tr>\n",
              "      <th>53697</th>\n",
              "      <td>2020-07-31</td>\n",
              "      <td>4870</td>\n",
              "      <td>gad7</td>\n",
              "      <td>2020-07-31</td>\n",
              "      <td>4</td>\n",
              "    </tr>\n",
              "  </tbody>\n",
              "</table>\n",
              "<p>45697 rows × 5 columns</p>\n",
              "</div>"
            ],
            "text/plain": [
              "             date  patient_id  type patient_date_created  score\n",
              "0      2019-08-26        8430  gad7           2019-06-03      6\n",
              "1      2019-11-15        8430  gad7           2019-06-03      1\n",
              "2      2019-10-07       14338  gad7           2019-06-03     10\n",
              "3      2019-11-04       14338  gad7           2019-06-03      7\n",
              "4      2019-12-02       14338  gad7           2019-06-03      9\n",
              "...           ...         ...   ...                  ...    ...\n",
              "53693  2020-07-31       10683  gad7           2020-07-31      1\n",
              "53694  2020-07-31       12344  gad7           2020-07-31      1\n",
              "53695  2020-07-31       17475  gad7           2020-07-31      7\n",
              "53696  2020-07-31        9069  gad7           2020-07-31      3\n",
              "53697  2020-07-31        4870  gad7           2020-07-31      4\n",
              "\n",
              "[45697 rows x 5 columns]"
            ]
          },
          "metadata": {
            "tags": []
          },
          "execution_count": 12
        }
      ]
    },
    {
      "cell_type": "markdown",
      "metadata": {
        "id": "iOCAxqw-uy4s"
      },
      "source": [
        "I then calculated the overall difference in scores for each pateint. A negative overall difference would show that they got better over time, a 0 overall score would show that there was no chnage in how they felt and lastly a positive overall difference would show that they got worse over time."
      ]
    },
    {
      "cell_type": "code",
      "metadata": {
        "id": "McssTN0APWdG"
      },
      "source": [
        "data_df['overall difference'] = data_df.groupby('patient_id')['score'].transform(lambda x: x.iat[-1] - x.iat[0])"
      ],
      "execution_count": 13,
      "outputs": []
    },
    {
      "cell_type": "code",
      "metadata": {
        "id": "yidln-zVCenU"
      },
      "source": [
        "x = data_df.groupby('patient_id')"
      ],
      "execution_count": 14,
      "outputs": []
    },
    {
      "cell_type": "code",
      "metadata": {
        "colab": {
          "base_uri": "https://localhost:8080/",
          "height": 204
        },
        "id": "LYrdxsNygIk4",
        "outputId": "b239f811-5137-421b-dc23-7c8d8513c990"
      },
      "source": [
        "data_df.head()"
      ],
      "execution_count": 15,
      "outputs": [
        {
          "output_type": "execute_result",
          "data": {
            "text/html": [
              "<div>\n",
              "<style scoped>\n",
              "    .dataframe tbody tr th:only-of-type {\n",
              "        vertical-align: middle;\n",
              "    }\n",
              "\n",
              "    .dataframe tbody tr th {\n",
              "        vertical-align: top;\n",
              "    }\n",
              "\n",
              "    .dataframe thead th {\n",
              "        text-align: right;\n",
              "    }\n",
              "</style>\n",
              "<table border=\"1\" class=\"dataframe\">\n",
              "  <thead>\n",
              "    <tr style=\"text-align: right;\">\n",
              "      <th></th>\n",
              "      <th>date</th>\n",
              "      <th>patient_id</th>\n",
              "      <th>type</th>\n",
              "      <th>patient_date_created</th>\n",
              "      <th>score</th>\n",
              "      <th>overall difference</th>\n",
              "    </tr>\n",
              "  </thead>\n",
              "  <tbody>\n",
              "    <tr>\n",
              "      <th>0</th>\n",
              "      <td>2019-08-26</td>\n",
              "      <td>8430</td>\n",
              "      <td>gad7</td>\n",
              "      <td>2019-06-03</td>\n",
              "      <td>6</td>\n",
              "      <td>-5</td>\n",
              "    </tr>\n",
              "    <tr>\n",
              "      <th>1</th>\n",
              "      <td>2019-11-15</td>\n",
              "      <td>8430</td>\n",
              "      <td>gad7</td>\n",
              "      <td>2019-06-03</td>\n",
              "      <td>1</td>\n",
              "      <td>-5</td>\n",
              "    </tr>\n",
              "    <tr>\n",
              "      <th>2</th>\n",
              "      <td>2019-10-07</td>\n",
              "      <td>14338</td>\n",
              "      <td>gad7</td>\n",
              "      <td>2019-06-03</td>\n",
              "      <td>10</td>\n",
              "      <td>-1</td>\n",
              "    </tr>\n",
              "    <tr>\n",
              "      <th>3</th>\n",
              "      <td>2019-11-04</td>\n",
              "      <td>14338</td>\n",
              "      <td>gad7</td>\n",
              "      <td>2019-06-03</td>\n",
              "      <td>7</td>\n",
              "      <td>-1</td>\n",
              "    </tr>\n",
              "    <tr>\n",
              "      <th>4</th>\n",
              "      <td>2019-12-02</td>\n",
              "      <td>14338</td>\n",
              "      <td>gad7</td>\n",
              "      <td>2019-06-03</td>\n",
              "      <td>9</td>\n",
              "      <td>-1</td>\n",
              "    </tr>\n",
              "  </tbody>\n",
              "</table>\n",
              "</div>"
            ],
            "text/plain": [
              "         date  patient_id  type patient_date_created  score  overall difference\n",
              "0  2019-08-26        8430  gad7           2019-06-03      6                  -5\n",
              "1  2019-11-15        8430  gad7           2019-06-03      1                  -5\n",
              "2  2019-10-07       14338  gad7           2019-06-03     10                  -1\n",
              "3  2019-11-04       14338  gad7           2019-06-03      7                  -1\n",
              "4  2019-12-02       14338  gad7           2019-06-03      9                  -1"
            ]
          },
          "metadata": {
            "tags": []
          },
          "execution_count": 15
        }
      ]
    },
    {
      "cell_type": "markdown",
      "metadata": {
        "id": "IRC0qxFovFZE"
      },
      "source": [
        "I then chose to focus on patients that recorded a score of ten at any point of time in taking the surveys and having more than one record. I did this because a score of ten signifies that the patients should under go further clinical evauation. By including all patients that recorded a 10 means I included patients that started with a lower score and then got worse or the opposite of that also. By including patients that have at least 2 records, this made analysing the differences more meaningful because we could see if treatment was helping or not."
      ]
    },
    {
      "cell_type": "code",
      "metadata": {
        "colab": {
          "base_uri": "https://localhost:8080/"
        },
        "id": "zRPhCvh-D6p9",
        "outputId": "8e46f27e-3f32-4436-dc9e-639d3f4253cf"
      },
      "source": [
        "g = dict(data_df['patient_id'].value_counts())\n",
        "new_g = {k: v for k, v in g.items() if v > 1}\n",
        "g_List = list(new_g.keys())  \n",
        "temp_df = data_df.loc[data_df['score'] == 10]\n",
        "patients = temp_df['patient_id'].unique()\n",
        "patnts = [p for p in patients if p in g_List]\n",
        "print(patnts)"
      ],
      "execution_count": 102,
      "outputs": [
        {
          "output_type": "stream",
          "text": [
            "[14338, 7561, 10735, 9834, 7890, 3681, 571, 7340, 4554, 1629, 6574, 15558, 6221, 10687, 1365, 14122, 16584, 2025, 15681, 10230, 11085, 15, 1951, 14148, 16472, 17485, 15066, 6454, 18230, 11699, 784, 15140, 14278, 16427, 4749, 9064, 10108, 654, 1766, 1102, 4549, 6497, 13011, 1222, 1708, 17809, 7571, 14350, 9261, 13855, 17583, 4156, 13171, 2826, 2747, 9147, 11461, 4019, 477, 12451, 3665, 1488, 10995, 15636, 10526, 5529, 9839, 8074, 8978, 5844, 8693, 9970, 14095, 6126, 14162, 8392, 2594, 5320, 11390, 16401, 5818, 12906, 16207, 2511, 17232, 18080, 582, 10914, 12526, 8342, 3666, 9657, 9176, 5105, 13670, 1502, 11790, 15860, 7145, 3198, 5289, 12353, 8948, 11593, 17506, 11589, 17960, 5253, 10265, 13570, 4788, 4753, 6097, 15546, 9296, 1689, 13060, 7818, 14920, 7166, 15639, 85, 2755, 3544, 11235, 7305, 14352, 879, 1728, 8714, 10768, 10442, 11476, 2835, 13223, 6274, 3162, 1151, 16530, 10271, 4423, 383, 8695, 11236, 13879, 4585, 11616, 10388, 1939, 2249, 5888, 4319, 813, 3803, 15807, 12332, 12608, 16665, 5460, 264, 3261, 7629, 2769, 9304, 6261, 13841, 11530, 1867, 8580, 3949, 15443, 10472, 17296, 8811, 16114, 16082, 15790, 12448, 7445, 6930, 13824, 6557, 2326, 7481, 9995, 11586, 1147, 18220, 4328, 3661, 15406, 8832, 2561, 15095, 13090, 15509, 15241, 12428, 8128, 989, 12166, 7849, 10899, 15464, 3888, 796, 2378, 15226, 14099, 18282, 12453, 14473, 4649, 8257, 10182, 15195, 17595, 14245, 11682, 5047, 13754, 7458, 12903, 10872, 12310, 13776, 10043, 5344, 7007, 1064, 2116, 10876, 12392, 4094, 7731, 1243, 9950, 10815, 3450, 7192, 397, 7634, 5411, 12239, 2131, 4991, 3901, 6803, 4617, 14645, 15823, 10413, 9306, 7454, 12192, 537, 313, 4926, 12128, 8946, 6439, 469, 16568, 2278, 149, 15724, 8699, 2714, 2670, 5811, 14259, 17339, 17707, 15866, 5135, 15322, 13091, 17551, 7892, 6798, 17550, 10621, 4460, 17904, 2783, 12941, 1878, 14812, 6959, 1167, 1872, 2558, 14409, 14750, 4680, 5721, 12486, 6231, 12640, 11534, 3437, 1006, 15764, 11365, 2760, 177, 11575, 15948, 4152, 10392, 9053, 13660, 6540, 17205, 15045, 7530, 6440, 1121, 13028, 11628, 1099, 8066, 3217, 3043, 17674, 14295, 10734, 1100, 17841, 17937, 2997, 10715, 12687, 14009, 14875, 16805, 4576, 6850, 9779, 3085, 3187, 18378, 11426, 1335, 14390, 1210, 11385, 6873, 17856, 904, 13216, 7901, 150, 16507, 6757, 3150, 14933, 4699, 6973, 5824, 5823, 1729, 17269, 9736, 17122, 7516, 5869, 13680, 1681, 4490, 14300, 13203, 4509, 14383, 18314, 7718, 338, 14840, 9538, 8849, 18348, 13142, 15403, 3313, 5539, 15245, 1042, 14154, 18222, 6165, 3203, 10329, 13248, 1898, 14563, 5549, 17132, 10954, 15174, 11276, 1630, 12816, 12639, 9196, 13810, 2937, 16226, 12039, 16782, 5362, 11098, 6070, 2855, 5403, 8464, 11065, 1934, 10042, 17946, 3975, 18258, 116, 3753, 7964, 8629, 4723, 14528, 4427, 387, 10250, 1823, 14948, 14521, 7339, 1094, 15733, 7021, 4050, 7357, 4142, 9785, 17116, 10679, 4070, 5447, 12856, 9112, 3814, 12489, 2198, 8969, 9633, 10890, 10546, 1564, 17170, 7738, 16604, 3920, 10519, 7787, 6792, 3182, 9873, 13551, 6295, 13740, 8338, 3627, 14579, 10284, 10432, 16613, 15131, 541, 3248, 6637, 5822, 16344, 8985, 6635, 12408, 10319, 17675, 3532, 12394, 17532, 5747, 6657, 10518, 4341, 13469, 4408, 5339, 18226, 16505, 10852, 15435, 5238, 15530, 2909, 16268, 8295, 14150, 18312, 10217, 1022, 8410, 17228, 57, 14373, 9111, 9493, 12420, 17265, 8787, 6239, 1035, 4008, 18264, 17561, 2969, 9872, 14019, 6243, 17501, 327, 8183, 3695, 10886, 3434, 10946, 14647, 6348, 14334, 4376, 8515, 15608, 2037, 795, 16215, 14180, 13512, 17906, 14395, 15798, 15326, 3116, 12824, 13274, 17515, 1131, 1920, 10809, 7012, 9724, 7924, 14443, 9576, 7623, 3993, 17916, 17868, 17362, 18298, 1096, 15518, 5215, 4440, 1, 10592, 11606, 4785, 15100, 18250, 8214, 3430, 5138, 16464, 10571, 8839, 11443, 288, 9749, 16893, 10616, 68, 3599, 5410, 16702, 907, 4095, 590, 17745, 4917, 8284, 8296, 5896, 16577, 12504, 2104, 1831, 3671, 2102, 18009, 1716, 6431, 6476, 6365, 5918, 3457, 12216, 11295, 10758, 10207, 6684, 11188, 15025, 17421, 15943, 1370, 5578, 18276, 12596, 3525, 706, 17030, 10360, 7664, 5299, 16839, 82, 7206, 17554, 2339, 3811, 12644, 14570, 6713, 3103, 5489, 11845, 5233, 7724, 13076, 15011, 7613, 12731, 17194, 9584, 5754, 6840, 15275, 7393, 5635, 13667, 14965, 14717, 10826, 13371, 8425, 2634, 13228, 15313, 12502, 12205, 15347, 9979, 2346, 6980, 3715, 11988, 1702, 12888, 13245, 10956, 13955, 2860, 3216, 13690, 12519, 12817, 18242, 7903, 17067, 915, 1656, 6047, 1916, 15572, 14510, 16158, 1194, 2599, 12371, 17929, 3706, 13284, 15611, 14617, 5711, 11198, 3687, 17862, 10029, 4062, 17546, 11787, 856, 3794, 5251, 6765, 2285, 8922, 13337, 584, 5204, 6829, 12894, 12609, 3882, 2844, 221, 17217, 9843, 17105, 5483, 6636, 11256, 1013, 17193, 12399, 7152, 13393, 9905, 5749, 5518, 5081, 14772, 6998, 4684, 1788, 826, 11659, 17966, 10785, 1815, 8258, 7709, 1173, 11086, 16599, 246, 13089, 14306, 14400, 286, 12044, 17399, 15887, 5056, 595, 16578, 13684, 12854, 4188, 12470, 10115, 14143, 16730, 13382, 5580, 6781, 16332, 11351, 18197, 8751, 1779, 6011, 17414, 17139, 4827, 8835, 8047, 11943, 10251, 17129, 9331, 6600, 10064, 1401, 2575, 16752, 10189, 6948, 11465, 5379, 6892, 9321, 70, 18231, 11925, 9825, 5761, 12405, 13047, 7331, 18370, 15591, 16598, 17329, 275, 86, 10322, 3088, 14737, 4269, 8137, 401, 11497, 6352, 8178, 17895, 1117, 6008, 18141, 10025, 3449, 8148, 2879, 11729, 9282, 12172, 2215, 9675, 3485, 14850, 14708, 5186, 14406, 59, 10786, 6329, 1014, 11594, 2197, 10455, 13691, 11571, 16395, 13953, 15980, 11489, 13207, 5404, 17911, 10639, 7501, 503, 5398, 17338, 13479, 16489, 2078, 5498, 12456, 18017, 10012, 7160, 4627, 307, 5260, 10635, 4773, 11437, 17779, 6103, 13307, 3565, 2958, 3848, 15071, 8513, 4545, 18388, 4255, 2097, 15003, 14508, 5573, 4433, 17076, 6313, 3572, 17189, 12919, 2663, 9967, 10628, 14559, 2644, 3674, 15490, 17481, 5182, 18288, 9309, 1105, 11772, 6805, 4195, 2216, 4249, 4047, 2562, 14460, 3051, 6938, 13712, 9145, 9955, 10962, 9243, 15303, 5223, 11944, 1492, 9551, 12543, 957, 2858, 6680, 16714, 16628, 12726, 1176, 5938, 5234, 8688, 727, 4021, 12246, 17967, 6855, 1915, 2949, 6269, 14628, 9737, 11398, 14447, 16509, 14651, 14453, 7955, 10430]\n"
          ],
          "name": "stdout"
        }
      ]
    },
    {
      "cell_type": "code",
      "metadata": {
        "id": "UxrJR4YCjur8"
      },
      "source": [
        "patients_df = data_df[data_df['patient_id'].isin(patnts)]"
      ],
      "execution_count": 103,
      "outputs": []
    },
    {
      "cell_type": "markdown",
      "metadata": {
        "id": "q5XB2EETv0Kw"
      },
      "source": [
        "I then included an inidcator column the signifies if the patients got better, worse or stayed the same. This was to make further grouping easier"
      ]
    },
    {
      "cell_type": "code",
      "metadata": {
        "colab": {
          "base_uri": "https://localhost:8080/"
        },
        "id": "ZhiHbXWptuLD",
        "outputId": "f809cf1f-f241-4a5f-b6ff-363e79930a6b"
      },
      "source": [
        "patients_df['felt_better'] = np.where(\n",
        "    patients_df['overall difference'] == 0, 0, np.where(\n",
        "    patients_df['overall difference'] >  0, 1, -1)) "
      ],
      "execution_count": 104,
      "outputs": [
        {
          "output_type": "stream",
          "text": [
            "/usr/local/lib/python3.7/dist-packages/ipykernel_launcher.py:3: SettingWithCopyWarning:\n",
            "\n",
            "\n",
            "A value is trying to be set on a copy of a slice from a DataFrame.\n",
            "Try using .loc[row_indexer,col_indexer] = value instead\n",
            "\n",
            "See the caveats in the documentation: https://pandas.pydata.org/pandas-docs/stable/user_guide/indexing.html#returning-a-view-versus-a-copy\n",
            "\n"
          ],
          "name": "stderr"
        }
      ]
    },
    {
      "cell_type": "markdown",
      "metadata": {
        "id": "U1f4m4zbyqhE"
      },
      "source": [
        "I ploted the averages scores of the patients who got better (-1), felt the same (0) and got worse (1) and their respective standard deviations. I found that patients who got worse, on average felt worse than the two other groups of patients. The error bars look relatively similar signifying a relatively equal spread of scores around the respective means."
      ]
    },
    {
      "cell_type": "code",
      "metadata": {
        "id": "oOkEYco2xNiL",
        "colab": {
          "base_uri": "https://localhost:8080/",
          "height": 313
        },
        "outputId": "8657404f-f48a-4d7d-a273-ef8b8e8cf7af"
      },
      "source": [
        "plotting_df = patients_df.groupby(\"felt_better\").agg([np.mean, np.std])\n",
        "values = plotting_df['score']\n",
        "values.plot(kind = \"bar\", y = \"mean\", legend = False,\n",
        "            title = \"Average Scores\", yerr = \"std\")\n"
      ],
      "execution_count": 147,
      "outputs": [
        {
          "output_type": "execute_result",
          "data": {
            "text/plain": [
              "<matplotlib.axes._subplots.AxesSubplot at 0x7f4888d59f50>"
            ]
          },
          "metadata": {
            "tags": []
          },
          "execution_count": 147
        },
        {
          "output_type": "display_data",
          "data": {
            "image/png": "[encoded data removed]",
            "text/plain": [
              "<Figure size 432x288 with 1 Axes>"
            ]
          },
          "metadata": {
            "tags": [],
            "needs_background": "light"
          }
        }
      ]
    },
    {
      "cell_type": "code",
      "metadata": {
        "colab": {
          "base_uri": "https://localhost:8080/",
          "height": 419
        },
        "id": "Y17Kvjw42EWX",
        "outputId": "691d6050-6553-4b36-8d62-05569f2c98ee"
      },
      "source": [
        "temp_df = patients_df.copy()\n",
        "df = temp_df.drop(['date', 'type', 'patient_date_created'], axis = 1)\n",
        "new_df = df.groupby(['felt_better','patient_id'])\n",
        "new_df.head()"
      ],
      "execution_count": 153,
      "outputs": [
        {
          "output_type": "execute_result",
          "data": {
            "text/html": [
              "<div>\n",
              "<style scoped>\n",
              "    .dataframe tbody tr th:only-of-type {\n",
              "        vertical-align: middle;\n",
              "    }\n",
              "\n",
              "    .dataframe tbody tr th {\n",
              "        vertical-align: top;\n",
              "    }\n",
              "\n",
              "    .dataframe thead th {\n",
              "        text-align: right;\n",
              "    }\n",
              "</style>\n",
              "<table border=\"1\" class=\"dataframe\">\n",
              "  <thead>\n",
              "    <tr style=\"text-align: right;\">\n",
              "      <th></th>\n",
              "      <th>patient_id</th>\n",
              "      <th>score</th>\n",
              "      <th>overall difference</th>\n",
              "      <th>felt_better</th>\n",
              "    </tr>\n",
              "  </thead>\n",
              "  <tbody>\n",
              "    <tr>\n",
              "      <th>2</th>\n",
              "      <td>14338</td>\n",
              "      <td>10</td>\n",
              "      <td>-1</td>\n",
              "      <td>-1</td>\n",
              "    </tr>\n",
              "    <tr>\n",
              "      <th>3</th>\n",
              "      <td>14338</td>\n",
              "      <td>7</td>\n",
              "      <td>-1</td>\n",
              "      <td>-1</td>\n",
              "    </tr>\n",
              "    <tr>\n",
              "      <th>4</th>\n",
              "      <td>14338</td>\n",
              "      <td>9</td>\n",
              "      <td>-1</td>\n",
              "      <td>-1</td>\n",
              "    </tr>\n",
              "    <tr>\n",
              "      <th>37</th>\n",
              "      <td>7561</td>\n",
              "      <td>19</td>\n",
              "      <td>-10</td>\n",
              "      <td>-1</td>\n",
              "    </tr>\n",
              "    <tr>\n",
              "      <th>38</th>\n",
              "      <td>7561</td>\n",
              "      <td>16</td>\n",
              "      <td>-10</td>\n",
              "      <td>-1</td>\n",
              "    </tr>\n",
              "    <tr>\n",
              "      <th>...</th>\n",
              "      <td>...</td>\n",
              "      <td>...</td>\n",
              "      <td>...</td>\n",
              "      <td>...</td>\n",
              "    </tr>\n",
              "    <tr>\n",
              "      <th>52930</th>\n",
              "      <td>14453</td>\n",
              "      <td>12</td>\n",
              "      <td>8</td>\n",
              "      <td>1</td>\n",
              "    </tr>\n",
              "    <tr>\n",
              "      <th>52960</th>\n",
              "      <td>7955</td>\n",
              "      <td>10</td>\n",
              "      <td>0</td>\n",
              "      <td>0</td>\n",
              "    </tr>\n",
              "    <tr>\n",
              "      <th>52961</th>\n",
              "      <td>7955</td>\n",
              "      <td>10</td>\n",
              "      <td>0</td>\n",
              "      <td>0</td>\n",
              "    </tr>\n",
              "    <tr>\n",
              "      <th>53510</th>\n",
              "      <td>10430</td>\n",
              "      <td>10</td>\n",
              "      <td>2</td>\n",
              "      <td>1</td>\n",
              "    </tr>\n",
              "    <tr>\n",
              "      <th>53511</th>\n",
              "      <td>10430</td>\n",
              "      <td>12</td>\n",
              "      <td>2</td>\n",
              "      <td>1</td>\n",
              "    </tr>\n",
              "  </tbody>\n",
              "</table>\n",
              "<p>3920 rows × 4 columns</p>\n",
              "</div>"
            ],
            "text/plain": [
              "       patient_id  score  overall difference  felt_better\n",
              "2           14338     10                  -1           -1\n",
              "3           14338      7                  -1           -1\n",
              "4           14338      9                  -1           -1\n",
              "37           7561     19                 -10           -1\n",
              "38           7561     16                 -10           -1\n",
              "...           ...    ...                 ...          ...\n",
              "52930       14453     12                   8            1\n",
              "52960        7955     10                   0            0\n",
              "52961        7955     10                   0            0\n",
              "53510       10430     10                   2            1\n",
              "53511       10430     12                   2            1\n",
              "\n",
              "[3920 rows x 4 columns]"
            ]
          },
          "metadata": {
            "tags": []
          },
          "execution_count": 153
        }
      ]
    },
    {
      "cell_type": "markdown",
      "metadata": {
        "id": "TQTX0CiGzzTz"
      },
      "source": [
        "I then wanted to see how the scores changed of the time period for each of these groups of patients. I grouped by the indicator column and patient id and selected the first record of each of these groups giving the inital score of each patients (remeber that I initally sorted by ascendeing date). I then got the last record for each of these groups getting the latest score for each of the patients in each group. Lastly i merged these two datasets such that the inital and final score for each patients could be found in one record. "
      ]
    },
    {
      "cell_type": "code",
      "metadata": {
        "colab": {
          "base_uri": "https://localhost:8080/"
        },
        "id": "7QwQlextWuS9",
        "outputId": "c9346797-1709-493c-90df-78a9985a3b05"
      },
      "source": [
        "temp_df = patients_df.copy()\n",
        "new_df = temp_df.drop(['date', 'type', 'patient_date_created'], axis = 1)\n",
        "worse_df = new_df[new_df['overall difference'] > 0]\n",
        "same_df = new_df[new_df['overall difference'] == 0]\n",
        "better_df = new_df[new_df['overall difference'] < 0]\n",
        "worse_count = len(worse_df.index)\n",
        "same_count = len(same_df.index)\n",
        "better_count = len(better_df.index)\n",
        "print(worse_count)\n",
        "print(same_count)\n",
        "print(better_count)\n",
        "\n"
      ],
      "execution_count": 157,
      "outputs": [
        {
          "output_type": "stream",
          "text": [
            "1994\n",
            "353\n",
            "2996\n"
          ],
          "name": "stdout"
        }
      ]
    },
    {
      "cell_type": "markdown",
      "metadata": {
        "id": "8Y5qFQq33st6"
      },
      "source": [
        "I then wanted to see how many patients fell into these three groups. We can see that most patients who recorded a score of over 10 ultimatley felt bettere over time. This shows that the treatment they undergo had positive effects on their mental health. The fewest number felt the same. We can also see almost 2000 (37%) patients got worse which is a significatn amount. For these patients it would do well if we could break down the type of treatments they were recieving and try understand why it wasn't working and if different treatment would be better. "
      ]
    },
    {
      "cell_type": "code",
      "metadata": {
        "colab": {
          "base_uri": "https://localhost:8080/",
          "height": 298
        },
        "id": "fY0Q0CNC27jI",
        "outputId": "c4726afe-ffc3-461c-a8f0-2cbd60c72372"
      },
      "source": [
        "plt.bar(['got worse', 'felt the same', 'got beter'], [worse_count, same_count, better_count])\n",
        "plt.ylabel('Number of Patients')\n",
        "plt.title('Distribution of Patients who got Better, Worse and Felt the Same')\n"
      ],
      "execution_count": 160,
      "outputs": [
        {
          "output_type": "execute_result",
          "data": {
            "text/plain": [
              "Text(0.5, 1.0, 'Distribution of Patients who got Better, Worse and Felt the Same')"
            ]
          },
          "metadata": {
            "tags": []
          },
          "execution_count": 160
        },
        {
          "output_type": "display_data",
          "data": {
            "image/png": "[encoded data removed]",
            "text/plain": [
              "<Figure size 432x288 with 1 Axes>"
            ]
          },
          "metadata": {
            "tags": [],
            "needs_background": "light"
          }
        }
      ]
    },
    {
      "cell_type": "code",
      "metadata": {
        "colab": {
          "base_uri": "https://localhost:8080/",
          "height": 450
        },
        "id": "INSQ2l6OcKCo",
        "outputId": "ea3b9e88-b514-44db-9fc1-ee5082b0b6c5"
      },
      "source": [
        "inital_df"
      ],
      "execution_count": 69,
      "outputs": [
        {
          "output_type": "execute_result",
          "data": {
            "text/html": [
              "<div>\n",
              "<style scoped>\n",
              "    .dataframe tbody tr th:only-of-type {\n",
              "        vertical-align: middle;\n",
              "    }\n",
              "\n",
              "    .dataframe tbody tr th {\n",
              "        vertical-align: top;\n",
              "    }\n",
              "\n",
              "    .dataframe thead th {\n",
              "        text-align: right;\n",
              "    }\n",
              "</style>\n",
              "<table border=\"1\" class=\"dataframe\">\n",
              "  <thead>\n",
              "    <tr style=\"text-align: right;\">\n",
              "      <th></th>\n",
              "      <th></th>\n",
              "      <th>score</th>\n",
              "      <th>overall difference</th>\n",
              "    </tr>\n",
              "    <tr>\n",
              "      <th>felt_better</th>\n",
              "      <th>patient_id</th>\n",
              "      <th></th>\n",
              "      <th></th>\n",
              "    </tr>\n",
              "  </thead>\n",
              "  <tbody>\n",
              "    <tr>\n",
              "      <th rowspan=\"5\" valign=\"top\">-1</th>\n",
              "      <th>11</th>\n",
              "      <td>2</td>\n",
              "      <td>-2</td>\n",
              "    </tr>\n",
              "    <tr>\n",
              "      <th>20</th>\n",
              "      <td>6</td>\n",
              "      <td>-4</td>\n",
              "    </tr>\n",
              "    <tr>\n",
              "      <th>43</th>\n",
              "      <td>7</td>\n",
              "      <td>-3</td>\n",
              "    </tr>\n",
              "    <tr>\n",
              "      <th>44</th>\n",
              "      <td>9</td>\n",
              "      <td>-9</td>\n",
              "    </tr>\n",
              "    <tr>\n",
              "      <th>67</th>\n",
              "      <td>6</td>\n",
              "      <td>-4</td>\n",
              "    </tr>\n",
              "    <tr>\n",
              "      <th>...</th>\n",
              "      <th>...</th>\n",
              "      <td>...</td>\n",
              "      <td>...</td>\n",
              "    </tr>\n",
              "    <tr>\n",
              "      <th rowspan=\"5\" valign=\"top\">1</th>\n",
              "      <th>18332</th>\n",
              "      <td>6</td>\n",
              "      <td>1</td>\n",
              "    </tr>\n",
              "    <tr>\n",
              "      <th>18350</th>\n",
              "      <td>6</td>\n",
              "      <td>1</td>\n",
              "    </tr>\n",
              "    <tr>\n",
              "      <th>18354</th>\n",
              "      <td>9</td>\n",
              "      <td>6</td>\n",
              "    </tr>\n",
              "    <tr>\n",
              "      <th>18370</th>\n",
              "      <td>5</td>\n",
              "      <td>5</td>\n",
              "    </tr>\n",
              "    <tr>\n",
              "      <th>18375</th>\n",
              "      <td>6</td>\n",
              "      <td>8</td>\n",
              "    </tr>\n",
              "  </tbody>\n",
              "</table>\n",
              "<p>2049 rows × 2 columns</p>\n",
              "</div>"
            ],
            "text/plain": [
              "                        score  overall difference\n",
              "felt_better patient_id                           \n",
              "-1          11              2                  -2\n",
              "            20              6                  -4\n",
              "            43              7                  -3\n",
              "            44              9                  -9\n",
              "            67              6                  -4\n",
              "...                       ...                 ...\n",
              " 1          18332           6                   1\n",
              "            18350           6                   1\n",
              "            18354           9                   6\n",
              "            18370           5                   5\n",
              "            18375           6                   8\n",
              "\n",
              "[2049 rows x 2 columns]"
            ]
          },
          "metadata": {
            "tags": []
          },
          "execution_count": 69
        }
      ]
    },
    {
      "cell_type": "code",
      "metadata": {
        "colab": {
          "base_uri": "https://localhost:8080/",
          "height": 450
        },
        "id": "WAXAQUmBaUFf",
        "outputId": "12ef5b81-93ac-471e-f555-f31435af1dee"
      },
      "source": [
        "last_df"
      ],
      "execution_count": 68,
      "outputs": [
        {
          "output_type": "execute_result",
          "data": {
            "text/html": [
              "<div>\n",
              "<style scoped>\n",
              "    .dataframe tbody tr th:only-of-type {\n",
              "        vertical-align: middle;\n",
              "    }\n",
              "\n",
              "    .dataframe tbody tr th {\n",
              "        vertical-align: top;\n",
              "    }\n",
              "\n",
              "    .dataframe thead th {\n",
              "        text-align: right;\n",
              "    }\n",
              "</style>\n",
              "<table border=\"1\" class=\"dataframe\">\n",
              "  <thead>\n",
              "    <tr style=\"text-align: right;\">\n",
              "      <th></th>\n",
              "      <th></th>\n",
              "      <th>score</th>\n",
              "      <th>overall difference</th>\n",
              "    </tr>\n",
              "    <tr>\n",
              "      <th>felt_better</th>\n",
              "      <th>patient_id</th>\n",
              "      <th></th>\n",
              "      <th></th>\n",
              "    </tr>\n",
              "  </thead>\n",
              "  <tbody>\n",
              "    <tr>\n",
              "      <th rowspan=\"5\" valign=\"top\">-1</th>\n",
              "      <th>11</th>\n",
              "      <td>0</td>\n",
              "      <td>-2</td>\n",
              "    </tr>\n",
              "    <tr>\n",
              "      <th>20</th>\n",
              "      <td>0</td>\n",
              "      <td>-4</td>\n",
              "    </tr>\n",
              "    <tr>\n",
              "      <th>43</th>\n",
              "      <td>6</td>\n",
              "      <td>-3</td>\n",
              "    </tr>\n",
              "    <tr>\n",
              "      <th>44</th>\n",
              "      <td>5</td>\n",
              "      <td>-9</td>\n",
              "    </tr>\n",
              "    <tr>\n",
              "      <th>67</th>\n",
              "      <td>4</td>\n",
              "      <td>-4</td>\n",
              "    </tr>\n",
              "    <tr>\n",
              "      <th>...</th>\n",
              "      <th>...</th>\n",
              "      <td>...</td>\n",
              "      <td>...</td>\n",
              "    </tr>\n",
              "    <tr>\n",
              "      <th rowspan=\"5\" valign=\"top\">1</th>\n",
              "      <th>18332</th>\n",
              "      <td>7</td>\n",
              "      <td>1</td>\n",
              "    </tr>\n",
              "    <tr>\n",
              "      <th>18350</th>\n",
              "      <td>5</td>\n",
              "      <td>1</td>\n",
              "    </tr>\n",
              "    <tr>\n",
              "      <th>18354</th>\n",
              "      <td>14</td>\n",
              "      <td>6</td>\n",
              "    </tr>\n",
              "    <tr>\n",
              "      <th>18370</th>\n",
              "      <td>6</td>\n",
              "      <td>5</td>\n",
              "    </tr>\n",
              "    <tr>\n",
              "      <th>18375</th>\n",
              "      <td>14</td>\n",
              "      <td>8</td>\n",
              "    </tr>\n",
              "  </tbody>\n",
              "</table>\n",
              "<p>2049 rows × 2 columns</p>\n",
              "</div>"
            ],
            "text/plain": [
              "                        score  overall difference\n",
              "felt_better patient_id                           \n",
              "-1          11              0                  -2\n",
              "            20              0                  -4\n",
              "            43              6                  -3\n",
              "            44              5                  -9\n",
              "            67              4                  -4\n",
              "...                       ...                 ...\n",
              " 1          18332           7                   1\n",
              "            18350           5                   1\n",
              "            18354          14                   6\n",
              "            18370           6                   5\n",
              "            18375          14                   8\n",
              "\n",
              "[2049 rows x 2 columns]"
            ]
          },
          "metadata": {
            "tags": []
          },
          "execution_count": 68
        }
      ]
    },
    {
      "cell_type": "code",
      "metadata": {
        "id": "bIuWxpN6ctho"
      },
      "source": [
        "new_df = pd.merge(inital_df, last_df,  how='inner', on=['felt_better','patient_id'])\n",
        "new_df.rename(columns={'score_x': 'inital_score', 'score_y': 'final_score', 'overall difference_y' : 'overall_difference'}, inplace=True)\n",
        "new_df = new_df.drop(['overall difference_x'], axis =1)\n",
        "worse_df = new_df[new_df['overall_difference'] > 0]\n",
        "same_df = new_df[new_df['overall_difference'] == 0]\n",
        "better_df = new_df[new_df['overall_difference'] < 0]"
      ],
      "execution_count": 107,
      "outputs": []
    },
    {
      "cell_type": "code",
      "metadata": {
        "id": "ixubhw2penQt"
      },
      "source": [
        "worse_int = worse_df[\"inital_score\"].mean()\n",
        "worse_fnl = worse_df[\"final_score\"].mean()\n",
        "same_int = same_df[\"inital_score\"].mean()\n",
        "same_fnl = same_df[\"final_score\"].mean()\n",
        "better_int = better_df[\"inital_score\"].mean()\n",
        "better_fnl = better_df[\"final_score\"].mean()\n"
      ],
      "execution_count": 108,
      "outputs": []
    },
    {
      "cell_type": "code",
      "metadata": {
        "colab": {
          "base_uri": "https://localhost:8080/"
        },
        "id": "I3Xepq8R1VFI",
        "outputId": "c144de7b-b717-4984-8175-5516611d55ba"
      },
      "source": [
        "print(worse_int - worse_fnl)\n",
        "print(same_int - same_fnl)\n",
        "print(better_int - better_fnl)\n"
      ],
      "execution_count": 149,
      "outputs": [
        {
          "output_type": "stream",
          "text": [
            "-2.4405405405405407\n",
            "0.75\n",
            "2.6254826254826256\n"
          ],
          "name": "stdout"
        }
      ]
    },
    {
      "cell_type": "markdown",
      "metadata": {
        "id": "gVyEjwep025G"
      },
      "source": [
        "I then plotted the inital and final averge scores for the three groups of patients. We can see that the patients who got better and thepatients who got worse had an overal absolute change of about 2.5~ points in their scores with patients getting worse having just a slight edge in change. This shows that patients experienceing treatment who got better or worse got better or worse by the same amount on average. Compounding this with the fact that most people did get better, this signals to me that with different treatments for those who got worse, they might record lower scores."
      ]
    },
    {
      "cell_type": "code",
      "metadata": {
        "colab": {
          "base_uri": "https://localhost:8080/",
          "height": 298
        },
        "id": "R7XXG6MumrRR",
        "outputId": "21296f6e-563c-4873-9bd8-a15dd1705f95"
      },
      "source": [
        "plt.plot([worse_int,worse_fnl], label = 'worse over time')\n",
        "plt.plot([same_int,same_fnl], label = 'same over time')\n",
        "plt.plot([better_int,better_fnl], label = 'better over time')\n",
        "plt.ylabel('Average Score')\n",
        "plt.title('Inital and Final Averages of Patients needing Further Evaluation')\n",
        "plt.legend(loc=\"upper right\")"
      ],
      "execution_count": 116,
      "outputs": [
        {
          "output_type": "execute_result",
          "data": {
            "text/plain": [
              "<matplotlib.legend.Legend at 0x7f4889b6dad0>"
            ]
          },
          "metadata": {
            "tags": []
          },
          "execution_count": 116
        },
        {
          "output_type": "display_data",
          "data": {
            "image/png": "[encoded data removed]",
            "text/plain": [
              "<Figure size 432x288 with 1 Axes>"
            ]
          },
          "metadata": {
            "tags": [],
            "needs_background": "light"
          }
        }
      ]
    },
    {
      "cell_type": "markdown",
      "metadata": {
        "id": "zml4cwoC6Mk7"
      },
      "source": [
        "##Final Thoughts## \n",
        "Data on the type of treatment would be extremely helpful. Data such as number of consultations (with a therapist), type of treatment would be examples of such data. Something we need to remember is that scores are relative to each patients individual patients and their perceptions of how they feel. We assumed that these scores are trustworthy measures of their mental health. I also checked for null values, and the dataset seemed to have none so no dropping or imputations were necessary. "
      ]
    }
  ]
}